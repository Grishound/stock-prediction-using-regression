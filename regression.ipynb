{
  "nbformat": 4,
  "nbformat_minor": 0,
  "metadata": {
    "colab": {
      "provenance": []
    },
    "kernelspec": {
      "name": "python3",
      "display_name": "Python 3"
    },
    "language_info": {
      "name": "python"
    }
  },
  "cells": [
    {
      "cell_type": "code",
      "execution_count": 1,
      "metadata": {
        "colab": {
          "base_uri": "https://localhost:8080/"
        },
        "id": "IVhnxxRlFw-K",
        "outputId": "2e0a95e9-a00a-4ce5-ab54-5c53ad8b3696"
      },
      "outputs": [
        {
          "output_type": "stream",
          "name": "stderr",
          "text": [
            "/usr/local/lib/python3.10/dist-packages/yfinance/base.py:48: FutureWarning: The default dtype for empty Series will be 'object' instead of 'float64' in a future version. Specify a dtype explicitly to silence this warning.\n",
            "  _empty_series = pd.Series()\n"
          ]
        }
      ],
      "source": [
        "import pandas as pd\n",
        "import numpy as np\n",
        "import matplotlib.pyplot as plt\n",
        "import datetime as dt\n",
        "import yfinance as yf\n",
        "from sklearn.model_selection import train_test_split\n",
        "from sklearn.linear_model import LinearRegression\n",
        "from sklearn.metrics import mean_squared_error\n"
      ]
    },
    {
      "cell_type": "code",
      "source": [
        "stock = 'AAPL'\n",
        "start_date = dt.date.today() - dt.timedelta(days=3650)  # 10 years of data\n",
        "end_date = dt.date.today()\n",
        "data = yf.download(stock, start_date, end_date)"
      ],
      "metadata": {
        "colab": {
          "base_uri": "https://localhost:8080/"
        },
        "id": "On5NFKSZHgXZ",
        "outputId": "b40ec5ff-bedd-4a15-ee99-13f96ccb91b7"
      },
      "execution_count": 2,
      "outputs": [
        {
          "output_type": "stream",
          "name": "stderr",
          "text": [
            "\r[*********************100%%**********************]  1 of 1 completed\n"
          ]
        }
      ]
    },
    {
      "cell_type": "code",
      "source": [
        "X = data.drop(['Adj Close'], axis=1)\n",
        "y = data['Adj Close']\n",
        "X_train, X_test, y_train, y_test = train_test_split(X, y, test_size=0.25, random_state=0)"
      ],
      "metadata": {
        "id": "OR3amQchHisN"
      },
      "execution_count": 3,
      "outputs": []
    },
    {
      "cell_type": "code",
      "source": [
        "regression_model = LinearRegression()\n",
        "regression_model.fit(X_train, y_train)\n",
        "intercept = regression_model.intercept_\n",
        "print(f\"The intercept for our model is: {intercept}\")"
      ],
      "metadata": {
        "colab": {
          "base_uri": "https://localhost:8080/"
        },
        "id": "jbZIWeNDHlva",
        "outputId": "eeacff35-9224-4147-c550-686d9efd2f35"
      },
      "execution_count": 4,
      "outputs": [
        {
          "output_type": "stream",
          "name": "stdout",
          "text": [
            "The intercept for our model is: -2.3767203721123025\n"
          ]
        }
      ]
    },
    {
      "cell_type": "code",
      "source": [
        "score = regression_model.score(X_test, y_test)\n",
        "print(f\"The score for our model is: {score}\")\n",
        "latest_data = data.tail(1).drop(['Adj Close'], axis=1)\n",
        "next_day_price = regression_model.predict(latest_data)[0]\n",
        "print(f\"The predicted price for the next trading day is: {next_day_price}\")"
      ],
      "metadata": {
        "colab": {
          "base_uri": "https://localhost:8080/"
        },
        "id": "pz_DntSSHoDA",
        "outputId": "aa1538d4-ad5e-413a-ca79-6c70481d5c33"
      },
      "execution_count": 5,
      "outputs": [
        {
          "output_type": "stream",
          "name": "stdout",
          "text": [
            "The score for our model is: 0.9999317993678369\n",
            "The predicted price for the next trading day is: 186.7124622129313\n"
          ]
        }
      ]
    }
  ]
}